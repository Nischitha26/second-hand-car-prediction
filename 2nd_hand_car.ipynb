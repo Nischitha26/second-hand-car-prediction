{
  "nbformat": 4,
  "nbformat_minor": 0,
  "metadata": {
    "colab": {
      "name": "2nd hand car.ipynb",
      "provenance": [],
      "collapsed_sections": []
    },
    "kernelspec": {
      "name": "python3",
      "display_name": "Python 3"
    }
  },
  "cells": [
    {
      "cell_type": "code",
      "metadata": {
        "id": "zPeRtnVz1F9E",
        "colab_type": "code",
        "colab": {}
      },
      "source": [
        "import numpy as np\n",
        "import pandas as pd \n",
        "import matplotlib.pyplot as plt\n"
      ],
      "execution_count": null,
      "outputs": []
    },
    {
      "cell_type": "code",
      "metadata": {
        "id": "ET7-xGqe1waH",
        "colab_type": "code",
        "colab": {
          "base_uri": "https://localhost:8080/",
          "height": 404
        },
        "outputId": "53180957-ce5a-4386-c730-f8531cb04b12"
      },
      "source": [
        "data=pd.read_csv('train.csv')\n",
        "data"
      ],
      "execution_count": null,
      "outputs": [
        {
          "output_type": "execute_result",
          "data": {
            "text/html": [
              "<div>\n",
              "<style scoped>\n",
              "    .dataframe tbody tr th:only-of-type {\n",
              "        vertical-align: middle;\n",
              "    }\n",
              "\n",
              "    .dataframe tbody tr th {\n",
              "        vertical-align: top;\n",
              "    }\n",
              "\n",
              "    .dataframe thead th {\n",
              "        text-align: right;\n",
              "    }\n",
              "</style>\n",
              "<table border=\"1\" class=\"dataframe\">\n",
              "  <thead>\n",
              "    <tr style=\"text-align: right;\">\n",
              "      <th></th>\n",
              "      <th>v.id</th>\n",
              "      <th>on road old</th>\n",
              "      <th>on road now</th>\n",
              "      <th>years</th>\n",
              "      <th>km</th>\n",
              "      <th>rating</th>\n",
              "      <th>condition</th>\n",
              "      <th>economy</th>\n",
              "      <th>top speed</th>\n",
              "      <th>hp</th>\n",
              "      <th>torque</th>\n",
              "      <th>current price</th>\n",
              "    </tr>\n",
              "  </thead>\n",
              "  <tbody>\n",
              "    <tr>\n",
              "      <th>0</th>\n",
              "      <td>1</td>\n",
              "      <td>535651</td>\n",
              "      <td>798186</td>\n",
              "      <td>3</td>\n",
              "      <td>78945</td>\n",
              "      <td>1</td>\n",
              "      <td>2</td>\n",
              "      <td>14</td>\n",
              "      <td>177</td>\n",
              "      <td>73</td>\n",
              "      <td>123</td>\n",
              "      <td>351318.0</td>\n",
              "    </tr>\n",
              "    <tr>\n",
              "      <th>1</th>\n",
              "      <td>2</td>\n",
              "      <td>591911</td>\n",
              "      <td>861056</td>\n",
              "      <td>6</td>\n",
              "      <td>117220</td>\n",
              "      <td>5</td>\n",
              "      <td>9</td>\n",
              "      <td>9</td>\n",
              "      <td>148</td>\n",
              "      <td>74</td>\n",
              "      <td>95</td>\n",
              "      <td>285001.5</td>\n",
              "    </tr>\n",
              "    <tr>\n",
              "      <th>2</th>\n",
              "      <td>3</td>\n",
              "      <td>686990</td>\n",
              "      <td>770762</td>\n",
              "      <td>2</td>\n",
              "      <td>132538</td>\n",
              "      <td>2</td>\n",
              "      <td>8</td>\n",
              "      <td>15</td>\n",
              "      <td>181</td>\n",
              "      <td>53</td>\n",
              "      <td>97</td>\n",
              "      <td>215386.0</td>\n",
              "    </tr>\n",
              "    <tr>\n",
              "      <th>3</th>\n",
              "      <td>4</td>\n",
              "      <td>573999</td>\n",
              "      <td>722381</td>\n",
              "      <td>4</td>\n",
              "      <td>101065</td>\n",
              "      <td>4</td>\n",
              "      <td>3</td>\n",
              "      <td>11</td>\n",
              "      <td>197</td>\n",
              "      <td>54</td>\n",
              "      <td>116</td>\n",
              "      <td>244295.5</td>\n",
              "    </tr>\n",
              "    <tr>\n",
              "      <th>4</th>\n",
              "      <td>5</td>\n",
              "      <td>691388</td>\n",
              "      <td>811335</td>\n",
              "      <td>6</td>\n",
              "      <td>61559</td>\n",
              "      <td>3</td>\n",
              "      <td>9</td>\n",
              "      <td>12</td>\n",
              "      <td>160</td>\n",
              "      <td>53</td>\n",
              "      <td>105</td>\n",
              "      <td>531114.5</td>\n",
              "    </tr>\n",
              "    <tr>\n",
              "      <th>...</th>\n",
              "      <td>...</td>\n",
              "      <td>...</td>\n",
              "      <td>...</td>\n",
              "      <td>...</td>\n",
              "      <td>...</td>\n",
              "      <td>...</td>\n",
              "      <td>...</td>\n",
              "      <td>...</td>\n",
              "      <td>...</td>\n",
              "      <td>...</td>\n",
              "      <td>...</td>\n",
              "      <td>...</td>\n",
              "    </tr>\n",
              "    <tr>\n",
              "      <th>995</th>\n",
              "      <td>996</td>\n",
              "      <td>633238</td>\n",
              "      <td>743850</td>\n",
              "      <td>5</td>\n",
              "      <td>125092</td>\n",
              "      <td>1</td>\n",
              "      <td>6</td>\n",
              "      <td>11</td>\n",
              "      <td>171</td>\n",
              "      <td>95</td>\n",
              "      <td>97</td>\n",
              "      <td>190744.0</td>\n",
              "    </tr>\n",
              "    <tr>\n",
              "      <th>996</th>\n",
              "      <td>997</td>\n",
              "      <td>599626</td>\n",
              "      <td>848195</td>\n",
              "      <td>4</td>\n",
              "      <td>83370</td>\n",
              "      <td>2</td>\n",
              "      <td>9</td>\n",
              "      <td>14</td>\n",
              "      <td>161</td>\n",
              "      <td>101</td>\n",
              "      <td>120</td>\n",
              "      <td>419748.0</td>\n",
              "    </tr>\n",
              "    <tr>\n",
              "      <th>997</th>\n",
              "      <td>998</td>\n",
              "      <td>646344</td>\n",
              "      <td>842733</td>\n",
              "      <td>7</td>\n",
              "      <td>86722</td>\n",
              "      <td>1</td>\n",
              "      <td>8</td>\n",
              "      <td>9</td>\n",
              "      <td>196</td>\n",
              "      <td>113</td>\n",
              "      <td>89</td>\n",
              "      <td>405871.0</td>\n",
              "    </tr>\n",
              "    <tr>\n",
              "      <th>998</th>\n",
              "      <td>999</td>\n",
              "      <td>535559</td>\n",
              "      <td>732439</td>\n",
              "      <td>2</td>\n",
              "      <td>140478</td>\n",
              "      <td>4</td>\n",
              "      <td>5</td>\n",
              "      <td>9</td>\n",
              "      <td>184</td>\n",
              "      <td>112</td>\n",
              "      <td>128</td>\n",
              "      <td>74398.0</td>\n",
              "    </tr>\n",
              "    <tr>\n",
              "      <th>999</th>\n",
              "      <td>1000</td>\n",
              "      <td>590105</td>\n",
              "      <td>779743</td>\n",
              "      <td>5</td>\n",
              "      <td>67295</td>\n",
              "      <td>4</td>\n",
              "      <td>2</td>\n",
              "      <td>8</td>\n",
              "      <td>199</td>\n",
              "      <td>99</td>\n",
              "      <td>96</td>\n",
              "      <td>414938.5</td>\n",
              "    </tr>\n",
              "  </tbody>\n",
              "</table>\n",
              "<p>1000 rows × 12 columns</p>\n",
              "</div>"
            ],
            "text/plain": [
              "     v.id  on road old  on road now  ...   hp  torque  current price\n",
              "0       1       535651       798186  ...   73     123       351318.0\n",
              "1       2       591911       861056  ...   74      95       285001.5\n",
              "2       3       686990       770762  ...   53      97       215386.0\n",
              "3       4       573999       722381  ...   54     116       244295.5\n",
              "4       5       691388       811335  ...   53     105       531114.5\n",
              "..    ...          ...          ...  ...  ...     ...            ...\n",
              "995   996       633238       743850  ...   95      97       190744.0\n",
              "996   997       599626       848195  ...  101     120       419748.0\n",
              "997   998       646344       842733  ...  113      89       405871.0\n",
              "998   999       535559       732439  ...  112     128        74398.0\n",
              "999  1000       590105       779743  ...   99      96       414938.5\n",
              "\n",
              "[1000 rows x 12 columns]"
            ]
          },
          "metadata": {
            "tags": []
          },
          "execution_count": 4
        }
      ]
    },
    {
      "cell_type": "code",
      "metadata": {
        "id": "-S1HRIfp13Ek",
        "colab_type": "code",
        "colab": {
          "base_uri": "https://localhost:8080/",
          "height": 196
        },
        "outputId": "45f8435a-4682-4d35-ad2b-cd424da2981b"
      },
      "source": [
        "data.head()"
      ],
      "execution_count": null,
      "outputs": [
        {
          "output_type": "execute_result",
          "data": {
            "text/html": [
              "<div>\n",
              "<style scoped>\n",
              "    .dataframe tbody tr th:only-of-type {\n",
              "        vertical-align: middle;\n",
              "    }\n",
              "\n",
              "    .dataframe tbody tr th {\n",
              "        vertical-align: top;\n",
              "    }\n",
              "\n",
              "    .dataframe thead th {\n",
              "        text-align: right;\n",
              "    }\n",
              "</style>\n",
              "<table border=\"1\" class=\"dataframe\">\n",
              "  <thead>\n",
              "    <tr style=\"text-align: right;\">\n",
              "      <th></th>\n",
              "      <th>v.id</th>\n",
              "      <th>on road old</th>\n",
              "      <th>on road now</th>\n",
              "      <th>years</th>\n",
              "      <th>km</th>\n",
              "      <th>rating</th>\n",
              "      <th>condition</th>\n",
              "      <th>economy</th>\n",
              "      <th>top speed</th>\n",
              "      <th>hp</th>\n",
              "      <th>torque</th>\n",
              "      <th>current price</th>\n",
              "    </tr>\n",
              "  </thead>\n",
              "  <tbody>\n",
              "    <tr>\n",
              "      <th>0</th>\n",
              "      <td>1</td>\n",
              "      <td>535651</td>\n",
              "      <td>798186</td>\n",
              "      <td>3</td>\n",
              "      <td>78945</td>\n",
              "      <td>1</td>\n",
              "      <td>2</td>\n",
              "      <td>14</td>\n",
              "      <td>177</td>\n",
              "      <td>73</td>\n",
              "      <td>123</td>\n",
              "      <td>351318.0</td>\n",
              "    </tr>\n",
              "    <tr>\n",
              "      <th>1</th>\n",
              "      <td>2</td>\n",
              "      <td>591911</td>\n",
              "      <td>861056</td>\n",
              "      <td>6</td>\n",
              "      <td>117220</td>\n",
              "      <td>5</td>\n",
              "      <td>9</td>\n",
              "      <td>9</td>\n",
              "      <td>148</td>\n",
              "      <td>74</td>\n",
              "      <td>95</td>\n",
              "      <td>285001.5</td>\n",
              "    </tr>\n",
              "    <tr>\n",
              "      <th>2</th>\n",
              "      <td>3</td>\n",
              "      <td>686990</td>\n",
              "      <td>770762</td>\n",
              "      <td>2</td>\n",
              "      <td>132538</td>\n",
              "      <td>2</td>\n",
              "      <td>8</td>\n",
              "      <td>15</td>\n",
              "      <td>181</td>\n",
              "      <td>53</td>\n",
              "      <td>97</td>\n",
              "      <td>215386.0</td>\n",
              "    </tr>\n",
              "    <tr>\n",
              "      <th>3</th>\n",
              "      <td>4</td>\n",
              "      <td>573999</td>\n",
              "      <td>722381</td>\n",
              "      <td>4</td>\n",
              "      <td>101065</td>\n",
              "      <td>4</td>\n",
              "      <td>3</td>\n",
              "      <td>11</td>\n",
              "      <td>197</td>\n",
              "      <td>54</td>\n",
              "      <td>116</td>\n",
              "      <td>244295.5</td>\n",
              "    </tr>\n",
              "    <tr>\n",
              "      <th>4</th>\n",
              "      <td>5</td>\n",
              "      <td>691388</td>\n",
              "      <td>811335</td>\n",
              "      <td>6</td>\n",
              "      <td>61559</td>\n",
              "      <td>3</td>\n",
              "      <td>9</td>\n",
              "      <td>12</td>\n",
              "      <td>160</td>\n",
              "      <td>53</td>\n",
              "      <td>105</td>\n",
              "      <td>531114.5</td>\n",
              "    </tr>\n",
              "  </tbody>\n",
              "</table>\n",
              "</div>"
            ],
            "text/plain": [
              "   v.id  on road old  on road now  years  ...  top speed  hp  torque  current price\n",
              "0     1       535651       798186      3  ...        177  73     123       351318.0\n",
              "1     2       591911       861056      6  ...        148  74      95       285001.5\n",
              "2     3       686990       770762      2  ...        181  53      97       215386.0\n",
              "3     4       573999       722381      4  ...        197  54     116       244295.5\n",
              "4     5       691388       811335      6  ...        160  53     105       531114.5\n",
              "\n",
              "[5 rows x 12 columns]"
            ]
          },
          "metadata": {
            "tags": []
          },
          "execution_count": 6
        }
      ]
    },
    {
      "cell_type": "code",
      "metadata": {
        "id": "vapRchcZ2AMl",
        "colab_type": "code",
        "colab": {
          "base_uri": "https://localhost:8080/",
          "height": 509
        },
        "outputId": "02d9c021-0803-4607-c642-9a0c7245ebb9"
      },
      "source": [
        "cor=data.corr()\n",
        "cor"
      ],
      "execution_count": null,
      "outputs": [
        {
          "output_type": "execute_result",
          "data": {
            "text/html": [
              "<div>\n",
              "<style scoped>\n",
              "    .dataframe tbody tr th:only-of-type {\n",
              "        vertical-align: middle;\n",
              "    }\n",
              "\n",
              "    .dataframe tbody tr th {\n",
              "        vertical-align: top;\n",
              "    }\n",
              "\n",
              "    .dataframe thead th {\n",
              "        text-align: right;\n",
              "    }\n",
              "</style>\n",
              "<table border=\"1\" class=\"dataframe\">\n",
              "  <thead>\n",
              "    <tr style=\"text-align: right;\">\n",
              "      <th></th>\n",
              "      <th>v.id</th>\n",
              "      <th>on road old</th>\n",
              "      <th>on road now</th>\n",
              "      <th>years</th>\n",
              "      <th>km</th>\n",
              "      <th>rating</th>\n",
              "      <th>condition</th>\n",
              "      <th>economy</th>\n",
              "      <th>top speed</th>\n",
              "      <th>hp</th>\n",
              "      <th>torque</th>\n",
              "      <th>current price</th>\n",
              "    </tr>\n",
              "  </thead>\n",
              "  <tbody>\n",
              "    <tr>\n",
              "      <th>v.id</th>\n",
              "      <td>1.000000</td>\n",
              "      <td>-0.029926</td>\n",
              "      <td>-0.030787</td>\n",
              "      <td>-0.034255</td>\n",
              "      <td>0.047400</td>\n",
              "      <td>-0.018263</td>\n",
              "      <td>-0.038548</td>\n",
              "      <td>0.047137</td>\n",
              "      <td>0.001613</td>\n",
              "      <td>-0.006997</td>\n",
              "      <td>-0.000632</td>\n",
              "      <td>-0.059460</td>\n",
              "    </tr>\n",
              "    <tr>\n",
              "      <th>on road old</th>\n",
              "      <td>-0.029926</td>\n",
              "      <td>1.000000</td>\n",
              "      <td>0.034113</td>\n",
              "      <td>0.007207</td>\n",
              "      <td>0.007488</td>\n",
              "      <td>-0.050717</td>\n",
              "      <td>-0.015682</td>\n",
              "      <td>-0.030097</td>\n",
              "      <td>-0.023816</td>\n",
              "      <td>-0.049266</td>\n",
              "      <td>0.008950</td>\n",
              "      <td>0.233035</td>\n",
              "    </tr>\n",
              "    <tr>\n",
              "      <th>on road now</th>\n",
              "      <td>-0.030787</td>\n",
              "      <td>0.034113</td>\n",
              "      <td>1.000000</td>\n",
              "      <td>0.004609</td>\n",
              "      <td>-0.053202</td>\n",
              "      <td>0.028280</td>\n",
              "      <td>-0.005043</td>\n",
              "      <td>-0.015880</td>\n",
              "      <td>0.012699</td>\n",
              "      <td>-0.012719</td>\n",
              "      <td>0.017955</td>\n",
              "      <td>0.282793</td>\n",
              "    </tr>\n",
              "    <tr>\n",
              "      <th>years</th>\n",
              "      <td>-0.034255</td>\n",
              "      <td>0.007207</td>\n",
              "      <td>0.004609</td>\n",
              "      <td>1.000000</td>\n",
              "      <td>-0.002089</td>\n",
              "      <td>0.027285</td>\n",
              "      <td>0.053579</td>\n",
              "      <td>0.050220</td>\n",
              "      <td>0.025148</td>\n",
              "      <td>-0.003272</td>\n",
              "      <td>0.028859</td>\n",
              "      <td>-0.011854</td>\n",
              "    </tr>\n",
              "    <tr>\n",
              "      <th>km</th>\n",
              "      <td>0.047400</td>\n",
              "      <td>0.007488</td>\n",
              "      <td>-0.053202</td>\n",
              "      <td>-0.002089</td>\n",
              "      <td>1.000000</td>\n",
              "      <td>-0.039930</td>\n",
              "      <td>-0.013640</td>\n",
              "      <td>0.032680</td>\n",
              "      <td>0.026450</td>\n",
              "      <td>-0.052918</td>\n",
              "      <td>0.013566</td>\n",
              "      <td>-0.935924</td>\n",
              "    </tr>\n",
              "    <tr>\n",
              "      <th>rating</th>\n",
              "      <td>-0.018263</td>\n",
              "      <td>-0.050717</td>\n",
              "      <td>0.028280</td>\n",
              "      <td>0.027285</td>\n",
              "      <td>-0.039930</td>\n",
              "      <td>1.000000</td>\n",
              "      <td>0.015943</td>\n",
              "      <td>-0.009757</td>\n",
              "      <td>-0.042222</td>\n",
              "      <td>-0.022623</td>\n",
              "      <td>0.004408</td>\n",
              "      <td>0.035038</td>\n",
              "    </tr>\n",
              "    <tr>\n",
              "      <th>condition</th>\n",
              "      <td>-0.038548</td>\n",
              "      <td>-0.015682</td>\n",
              "      <td>-0.005043</td>\n",
              "      <td>0.053579</td>\n",
              "      <td>-0.013640</td>\n",
              "      <td>0.015943</td>\n",
              "      <td>1.000000</td>\n",
              "      <td>0.058788</td>\n",
              "      <td>0.018472</td>\n",
              "      <td>-0.071552</td>\n",
              "      <td>0.047805</td>\n",
              "      <td>0.110108</td>\n",
              "    </tr>\n",
              "    <tr>\n",
              "      <th>economy</th>\n",
              "      <td>0.047137</td>\n",
              "      <td>-0.030097</td>\n",
              "      <td>-0.015880</td>\n",
              "      <td>0.050220</td>\n",
              "      <td>0.032680</td>\n",
              "      <td>-0.009757</td>\n",
              "      <td>0.058788</td>\n",
              "      <td>1.000000</td>\n",
              "      <td>-0.059402</td>\n",
              "      <td>-0.016782</td>\n",
              "      <td>0.041632</td>\n",
              "      <td>-0.034711</td>\n",
              "    </tr>\n",
              "    <tr>\n",
              "      <th>top speed</th>\n",
              "      <td>0.001613</td>\n",
              "      <td>-0.023816</td>\n",
              "      <td>0.012699</td>\n",
              "      <td>0.025148</td>\n",
              "      <td>0.026450</td>\n",
              "      <td>-0.042222</td>\n",
              "      <td>0.018472</td>\n",
              "      <td>-0.059402</td>\n",
              "      <td>1.000000</td>\n",
              "      <td>0.057827</td>\n",
              "      <td>-0.019697</td>\n",
              "      <td>-0.027993</td>\n",
              "    </tr>\n",
              "    <tr>\n",
              "      <th>hp</th>\n",
              "      <td>-0.006997</td>\n",
              "      <td>-0.049266</td>\n",
              "      <td>-0.012719</td>\n",
              "      <td>-0.003272</td>\n",
              "      <td>-0.052918</td>\n",
              "      <td>-0.022623</td>\n",
              "      <td>-0.071552</td>\n",
              "      <td>-0.016782</td>\n",
              "      <td>0.057827</td>\n",
              "      <td>1.000000</td>\n",
              "      <td>-0.013817</td>\n",
              "      <td>0.030238</td>\n",
              "    </tr>\n",
              "    <tr>\n",
              "      <th>torque</th>\n",
              "      <td>-0.000632</td>\n",
              "      <td>0.008950</td>\n",
              "      <td>0.017955</td>\n",
              "      <td>0.028859</td>\n",
              "      <td>0.013566</td>\n",
              "      <td>0.004408</td>\n",
              "      <td>0.047805</td>\n",
              "      <td>0.041632</td>\n",
              "      <td>-0.019697</td>\n",
              "      <td>-0.013817</td>\n",
              "      <td>1.000000</td>\n",
              "      <td>-0.002290</td>\n",
              "    </tr>\n",
              "    <tr>\n",
              "      <th>current price</th>\n",
              "      <td>-0.059460</td>\n",
              "      <td>0.233035</td>\n",
              "      <td>0.282793</td>\n",
              "      <td>-0.011854</td>\n",
              "      <td>-0.935924</td>\n",
              "      <td>0.035038</td>\n",
              "      <td>0.110108</td>\n",
              "      <td>-0.034711</td>\n",
              "      <td>-0.027993</td>\n",
              "      <td>0.030238</td>\n",
              "      <td>-0.002290</td>\n",
              "      <td>1.000000</td>\n",
              "    </tr>\n",
              "  </tbody>\n",
              "</table>\n",
              "</div>"
            ],
            "text/plain": [
              "                   v.id  on road old  ...    torque  current price\n",
              "v.id           1.000000    -0.029926  ... -0.000632      -0.059460\n",
              "on road old   -0.029926     1.000000  ...  0.008950       0.233035\n",
              "on road now   -0.030787     0.034113  ...  0.017955       0.282793\n",
              "years         -0.034255     0.007207  ...  0.028859      -0.011854\n",
              "km             0.047400     0.007488  ...  0.013566      -0.935924\n",
              "rating        -0.018263    -0.050717  ...  0.004408       0.035038\n",
              "condition     -0.038548    -0.015682  ...  0.047805       0.110108\n",
              "economy        0.047137    -0.030097  ...  0.041632      -0.034711\n",
              "top speed      0.001613    -0.023816  ... -0.019697      -0.027993\n",
              "hp            -0.006997    -0.049266  ... -0.013817       0.030238\n",
              "torque        -0.000632     0.008950  ...  1.000000      -0.002290\n",
              "current price -0.059460     0.233035  ... -0.002290       1.000000\n",
              "\n",
              "[12 rows x 12 columns]"
            ]
          },
          "metadata": {
            "tags": []
          },
          "execution_count": 8
        }
      ]
    },
    {
      "cell_type": "code",
      "metadata": {
        "id": "zx4ecZ6M2MRh",
        "colab_type": "code",
        "colab": {
          "base_uri": "https://localhost:8080/",
          "height": 234
        },
        "outputId": "fd4ffb4f-820c-4e6d-ac17-5100e9126420"
      },
      "source": [
        "abs(cor.loc['current price']).sort_values(ascending=False)"
      ],
      "execution_count": null,
      "outputs": [
        {
          "output_type": "execute_result",
          "data": {
            "text/plain": [
              "current price    1.000000\n",
              "km               0.935924\n",
              "on road now      0.282793\n",
              "on road old      0.233035\n",
              "condition        0.110108\n",
              "v.id             0.059460\n",
              "rating           0.035038\n",
              "economy          0.034711\n",
              "hp               0.030238\n",
              "top speed        0.027993\n",
              "years            0.011854\n",
              "torque           0.002290\n",
              "Name: current price, dtype: float64"
            ]
          },
          "metadata": {
            "tags": []
          },
          "execution_count": 10
        }
      ]
    },
    {
      "cell_type": "code",
      "metadata": {
        "id": "OBMrgtMn2ZQh",
        "colab_type": "code",
        "colab": {}
      },
      "source": [
        "x=data['km']\n",
        "y=data['current price']\n",
        "x=np.array(x/x.mean())\n",
        "y=np.array(y/y.mean())"
      ],
      "execution_count": null,
      "outputs": []
    },
    {
      "cell_type": "code",
      "metadata": {
        "id": "J13XxHXn2oDy",
        "colab_type": "code",
        "colab": {
          "base_uri": "https://localhost:8080/",
          "height": 33
        },
        "outputId": "39ccf58e-ffd2-41c6-c114-c1c0ab9665ea"
      },
      "source": [
        "print(np.shape(x),np.shape(y))"
      ],
      "execution_count": null,
      "outputs": [
        {
          "output_type": "stream",
          "text": [
            "(1000,) (1000,)\n"
          ],
          "name": "stdout"
        }
      ]
    },
    {
      "cell_type": "code",
      "metadata": {
        "id": "36Ql3Hlb2wwI",
        "colab_type": "code",
        "colab": {
          "base_uri": "https://localhost:8080/",
          "height": 33
        },
        "outputId": "6527d058-ce26-45f6-f12e-3255f2b21a96"
      },
      "source": [
        "from sklearn.model_selection import train_test_split\n",
        "xtrain,xtest,ytrain,ytest = train_test_split(x,y,test_size=0.2)\n",
        "print(np.shape(xtrain),np.shape(xtest))"
      ],
      "execution_count": null,
      "outputs": [
        {
          "output_type": "stream",
          "text": [
            "(800,) (200,)\n"
          ],
          "name": "stdout"
        }
      ]
    },
    {
      "cell_type": "code",
      "metadata": {
        "id": "nwbqnvwa3U7x",
        "colab_type": "code",
        "colab": {
          "base_uri": "https://localhost:8080/",
          "height": 281
        },
        "outputId": "2966d31c-be29-40c0-a9e7-1e2a3db90c22"
      },
      "source": [
        "plt.plot(xtrain,ytrain,'g.')"
      ],
      "execution_count": null,
      "outputs": [
        {
          "output_type": "execute_result",
          "data": {
            "text/plain": [
              "[<matplotlib.lines.Line2D at 0x7f302309a5f8>]"
            ]
          },
          "metadata": {
            "tags": []
          },
          "execution_count": 19
        },
        {
          "output_type": "display_data",
          "data": {
            "image/png": "[encoded data removed]",
            "text/plain": [
              "<Figure size 432x288 with 1 Axes>"
            ]
          },
          "metadata": {
            "tags": [],
            "needs_background": "light"
          }
        }
      ]
    },
    {
      "cell_type": "code",
      "metadata": {
        "id": "UFpZ5QFt3dBz",
        "colab_type": "code",
        "colab": {
          "base_uri": "https://localhost:8080/",
          "height": 281
        },
        "outputId": "6f9dc162-f225-4af8-97af-56f45b2292a0"
      },
      "source": [
        "plt.plot(xtest, ytest, 'b.')"
      ],
      "execution_count": null,
      "outputs": [
        {
          "output_type": "execute_result",
          "data": {
            "text/plain": [
              "[<matplotlib.lines.Line2D at 0x7f3022fe0908>]"
            ]
          },
          "metadata": {
            "tags": []
          },
          "execution_count": 21
        },
        {
          "output_type": "display_data",
          "data": {
            "image/png": "[encoded data removed]",
            "text/plain": [
              "<Figure size 432x288 with 1 Axes>"
            ]
          },
          "metadata": {
            "tags": [],
            "needs_background": "light"
          }
        }
      ]
    },
    {
      "cell_type": "code",
      "metadata": {
        "id": "_CIyOtrM3rH0",
        "colab_type": "code",
        "colab": {}
      },
      "source": [
        "def hypothesis(a,b,x):\n",
        "  return a*x + b"
      ],
      "execution_count": null,
      "outputs": []
    },
    {
      "cell_type": "code",
      "metadata": {
        "id": "88nWGK1R30DF",
        "colab_type": "code",
        "colab": {}
      },
      "source": [
        "def error(a,b,x,y):\n",
        "  e = 0\n",
        "  m = len(y)\n",
        "  for i in range(m):\n",
        "    e += np.power((hypothesis(a,b,x[i])-y[i]),2)\n",
        "  return (1/(2*m)) *e"
      ],
      "execution_count": null,
      "outputs": []
    },
    {
      "cell_type": "code",
      "metadata": {
        "id": "oVyHzhe238iW",
        "colab_type": "code",
        "colab": {}
      },
      "source": [
        "def step_gradiet(a,b,x,y,learning_rate):\n",
        "  grad_a = 0\n",
        "  grad_b = 0\n",
        "  m = len(x)\n",
        "  for i in range(m):\n",
        "    grad_a += 1/m * (hypothesis(a,b,x[i])-y[i]) *x[i]\n",
        "    grad_b += 1/m * (hypothesis(a,b,x[i])-y[i])\n",
        "  a = a- (grad_a * learning_rate)\n",
        "  b = b- (grad_b * learning_rate)\n",
        "  return a,b"
      ],
      "execution_count": null,
      "outputs": []
    },
    {
      "cell_type": "code",
      "metadata": {
        "id": "b_ddgazE4DTu",
        "colab_type": "code",
        "colab": {}
      },
      "source": [
        "def descend(initial_a, initial_b, x,y,learning_rate, iterations):\n",
        "  a = initial_a\n",
        "  b = initial_b\n",
        "  for i in range(iterations):\n",
        "    e = error(a,b,x,y)\n",
        "    if i % 1000 ==0:\n",
        "      print(f\"Error: {e}, a: {a}, b: {b}\")\n",
        "    a,b = step_gradiet(a,b,x,y,learning_rate)\n",
        "  return a,b"
      ],
      "execution_count": null,
      "outputs": []
    },
    {
      "cell_type": "code",
      "metadata": {
        "id": "_Lkn9uXg4Ml4",
        "colab_type": "code",
        "colab": {
          "base_uri": "https://localhost:8080/",
          "height": 184
        },
        "outputId": "0c85b697-a544-46c2-bec7-950579066eea"
      },
      "source": [
        "a = 0\n",
        "b = 1\n",
        "learning_rate = 0.01\n",
        "iterations = 10000\n",
        "final_a, final_b = descend(a,b,xtrain, ytrain, learning_rate, iterations)"
      ],
      "execution_count": null,
      "outputs": [
        {
          "output_type": "stream",
          "text": [
            "Error: 0.08410743185528424, a: 0, b: 1\n",
            "Error: 0.042155141563177054, a: -0.46470272218681213, b: 1.4295851627626035\n",
            "Error: 0.024433571961239412, a: -0.7539911181911884, b: 1.731396477492224\n",
            "Error: 0.016671428479635392, a: -0.9454478998318403, b: 1.9311411744464897\n",
            "Error: 0.013271567587944262, a: -1.0721577843147843, b: 2.063336165192023\n",
            "Error: 0.011782410100679916, a: -1.1560168917754705, b: 2.1508254244548737\n",
            "Error: 0.011130151054642226, a: -1.211516507553665, b: 2.2087275464883502\n",
            "Error: 0.01084445805925623, a: -1.248247250877773, b: 2.247048315965973\n",
            "Error: 0.010719322979707019, a: -1.272556383224446, b: 2.272409759066592\n",
            "Error: 0.01066451313702034, a: -1.2886446477671398, b: 2.289194463677537\n"
          ],
          "name": "stdout"
        }
      ]
    },
    {
      "cell_type": "code",
      "metadata": {
        "id": "8XAwz2Ub4euk",
        "colab_type": "code",
        "colab": {
          "base_uri": "https://localhost:8080/",
          "height": 50
        },
        "outputId": "50afbb6c-0be1-4076-ee96-6edc77b24944"
      },
      "source": [
        "print(error(a,b,xtrain, ytrain))\n",
        "print(error(final_a,final_b, xtrain, ytrain))"
      ],
      "execution_count": null,
      "outputs": [
        {
          "output_type": "stream",
          "text": [
            "0.08410743185528424\n",
            "0.01064050612902421\n"
          ],
          "name": "stdout"
        }
      ]
    },
    {
      "cell_type": "code",
      "metadata": {
        "id": "uAFP-xLG4rmU",
        "colab_type": "code",
        "colab": {
          "base_uri": "https://localhost:8080/",
          "height": 33
        },
        "outputId": "1b8a96d4-fa89-414a-cb46-c861b0c226cb"
      },
      "source": [
        "err=error(final_a, final_b, xtest, ytest)\n",
        "err"
      ],
      "execution_count": null,
      "outputs": [
        {
          "output_type": "execute_result",
          "data": {
            "text/plain": [
              "0.009229539171096693"
            ]
          },
          "metadata": {
            "tags": []
          },
          "execution_count": 36
        }
      ]
    },
    {
      "cell_type": "code",
      "metadata": {
        "id": "8rZd2DoA4xLg",
        "colab_type": "code",
        "colab": {
          "base_uri": "https://localhost:8080/",
          "height": 298
        },
        "outputId": "595f083e-08b9-4b8b-dc42-15e6a4a064c8"
      },
      "source": [
        "plt.plot(xtest, ytest, 'r.', xtest, hypothesis(final_a, final_b, xtest), 'g')"
      ],
      "execution_count": null,
      "outputs": [
        {
          "output_type": "execute_result",
          "data": {
            "text/plain": [
              "[<matplotlib.lines.Line2D at 0x7f30230e9080>,\n",
              " <matplotlib.lines.Line2D at 0x7f30230e9748>]"
            ]
          },
          "metadata": {
            "tags": []
          },
          "execution_count": 38
        },
        {
          "output_type": "display_data",
          "data": {
            "image/png": "[encoded data removed]",
            "text/plain": [
              "<Figure size 432x288 with 1 Axes>"
            ]
          },
          "metadata": {
            "tags": [],
            "needs_background": "light"
          }
        }
      ]
    },
    {
      "cell_type": "code",
      "metadata": {
        "id": "eC34Ldyj45XC",
        "colab_type": "code",
        "colab": {
          "base_uri": "https://localhost:8080/",
          "height": 33
        },
        "outputId": "42fa16f0-d6b0-4815-d6e3-89676947ca13"
      },
      "source": [
        "accuracy=(1-err)*100\n",
        "accuracy"
      ],
      "execution_count": null,
      "outputs": [
        {
          "output_type": "execute_result",
          "data": {
            "text/plain": [
              "99.07704608289033"
            ]
          },
          "metadata": {
            "tags": []
          },
          "execution_count": 39
        }
      ]
    }
  ]
}